{
 "cells": [
  {
   "cell_type": "code",
   "execution_count": 13,
   "metadata": {},
   "outputs": [],
   "source": [
    "package_list = ['kipoi',\n",
    " 'kipoiseq',\n",
    " 'scipy',\n",
    " 'Django',\n",
    " 'dash',\n",
    " 'pybedtools',\n",
    " 'scikit-allel',\n",
    " 'scikit-posthocs',\n",
    " 'logomaker',\n",
    " 'myvariant']"
   ]
  },
  {
   "cell_type": "code",
   "execution_count": 5,
   "metadata": {},
   "outputs": [],
   "source": [
    "import pip"
   ]
  },
  {
   "cell_type": "code",
   "execution_count": 15,
   "metadata": {},
   "outputs": [
    {
     "name": "stdout",
     "output_type": "stream",
     "text": [
      "kipoi ['kipoi==0.6.29']\n",
      "kipoiseq ['kipoiseq==0.5.2']\n",
      "scipy ['scipy==1.4.1']\n",
      "Django ['Django==3.1.3']\n",
      "dash ['dash==1.17.0']\n",
      "pybedtools ['pybedtools==0.8.1']\n",
      "scikit-allel ['scikit-allel==1.3.2']\n",
      "scikit-posthocs ['scikit-posthocs==0.6.6']\n",
      "logomaker ['logomaker==0.8']\n",
      "myvariant ['myvariant==1.0.0']\n"
     ]
    }
   ],
   "source": [
    "res = ''\n",
    "for item in package_list:\n",
    "    found = !pip freeze| grep {item}==\n",
    "    print(item, found)\n",
    "    res += found[0]+'\\n'"
   ]
  },
  {
   "cell_type": "code",
   "execution_count": 17,
   "metadata": {},
   "outputs": [
    {
     "name": "stdout",
     "output_type": "stream",
     "text": [
      "kipoi==0.6.29\n",
      "kipoiseq==0.5.2\n",
      "scipy==1.4.1\n",
      "Django==3.1.3\n",
      "dash==1.17.0\n",
      "pybedtools==0.8.1\n",
      "scikit-allel==1.3.2\n",
      "scikit-posthocs==0.6.6\n",
      "logomaker==0.8\n",
      "myvariant==1.0.0\n",
      "\n"
     ]
    }
   ],
   "source": [
    "print(res)"
   ]
  },
  {
   "cell_type": "code",
   "execution_count": null,
   "metadata": {},
   "outputs": [],
   "source": [
    "!pip freeze| grep {'|'.join(package_list)}"
   ]
  }
 ],
 "metadata": {
  "kernelspec": {
   "display_name": "Python 3",
   "language": "python",
   "name": "python3"
  },
  "language_info": {
   "codemirror_mode": {
    "name": "ipython",
    "version": 3
   },
   "file_extension": ".py",
   "mimetype": "text/x-python",
   "name": "python",
   "nbconvert_exporter": "python",
   "pygments_lexer": "ipython3",
   "version": "3.7.4"
  }
 },
 "nbformat": 4,
 "nbformat_minor": 2
}
